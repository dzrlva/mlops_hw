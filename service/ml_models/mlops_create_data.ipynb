{
  "nbformat": 4,
  "nbformat_minor": 0,
  "metadata": {
    "colab": {
      "provenance": []
    },
    "kernelspec": {
      "name": "python3",
      "display_name": "Python 3"
    },
    "language_info": {
      "name": "python"
    }
  },
  "cells": [
    {
      "cell_type": "code",
      "execution_count": 27,
      "metadata": {
        "id": "5fvYttCBS5vc"
      },
      "outputs": [],
      "source": [
        "import pandas as pd\n",
        "import numpy as np\n",
        "from sklearn.datasets import make_classification, make_regression\n",
        "\n",
        "def create_dataset(task_type, n_numeric, n_categorical, n_samples=100, df=None, n_classes=2):\n",
        "    \"\"\"\n",
        "    Создает датасет на основе sklearn.datasets с заданным количеством числовых и категориальных признаков.\n",
        "\n",
        "    Parameters:\n",
        "    - task_type: str, тип задачи ('classification' или 'regression')\n",
        "    - n_numeric: int, количество числовых признаков\n",
        "    - n_categorical: int, количество категориальных признаков\n",
        "    - n_samples: int, количество строк в датасете\n",
        "    - df: pd.DataFrame, DataFrame для хранения результата (по умолчанию создается новый DataFrame)\n",
        "\n",
        "    Returns:\n",
        "    - pd.DataFrame с сгенерированными данными\n",
        "    \"\"\"\n",
        "    if task_type not in ['binary_classification', 'regression', 'multiclass_classification', 'classification']:\n",
        "        raise ValueError(\"task_type должен быть 'classification' или 'regression'\")\n",
        "\n",
        "    if df is None:\n",
        "        df = pd.DataFrame()\n",
        "\n",
        "    # Генерация числовых признаков\n",
        "    if 'classification' in task_type:\n",
        "        X_numeric, y = make_classification(n_samples=n_samples,\n",
        "            n_features=n_numeric,\n",
        "            n_redundant=0,\n",
        "            n_repeated=0,\n",
        "            n_informative=n_numeric,\n",
        "            n_clusters_per_class=1,\n",
        "            n_classes=n_classes)\n",
        "    elif task_type == 'regression':\n",
        "        X_numeric, y = make_regression(n_samples=n_samples,\n",
        "            n_features=n_numeric,\n",
        "            n_informative=n_numeric,\n",
        "            noise=0.1)\n",
        "\n",
        "    # Добавление числовых признаков в DataFrame\n",
        "    for i in range(n_numeric):\n",
        "        df[f'feature_{i}'] = X_numeric[:, i]\n",
        "\n",
        "    # Генерация категориальных признаков\n",
        "    if n_categorical > 0:\n",
        "\n",
        "        # Добавление категориальных признаков в DataFrame\n",
        "        for j in range(n_categorical):\n",
        "            n_categories = np.random.randint(2,10)\n",
        "            p = np.random.rand(n_categories)\n",
        "            X_categorical = np.random.choice(np.arange(n_categories), p=p / p.sum(), size=n_samples)\n",
        "            df[f'category_{j}'] = X_categorical.astype(str)\n",
        "\n",
        "    # Добавление целевой переменной в DataFrame\n",
        "    df['target'] = y\n",
        "\n",
        "    return df"
      ]
    },
    {
      "cell_type": "code",
      "source": [
        "# Пример использования\n",
        "df = create_dataset(task_type='classification', n_numeric=5, n_categorical=3, n_samples=10, n_classes=3)\n",
        "print(df.drop(columns='target').columns)\n",
        "display(df.drop(columns='target').values.tolist())\n",
        "display(df['target'].values.astype(str).tolist())"
      ],
      "metadata": {
        "id": "t27BwaiDTlUD",
        "colab": {
          "base_uri": "https://localhost:8080/",
          "height": 1000
        },
        "outputId": "2f7ff412-75f0-45fd-ba24-59fc98de9876"
      },
      "execution_count": 68,
      "outputs": [
        {
          "output_type": "stream",
          "name": "stdout",
          "text": [
            "Index(['feature_0', 'feature_1', 'feature_2', 'feature_3', 'feature_4',\n",
            "       'category_0', 'category_1', 'category_2'],\n",
            "      dtype='object')\n"
          ]
        },
        {
          "output_type": "display_data",
          "data": {
            "text/plain": [
              "[[0.7381623940974018,\n",
              "  0.09970188999794594,\n",
              "  -0.21649352098140917,\n",
              "  2.2998973375768266,\n",
              "  1.8345486914809714,\n",
              "  '0',\n",
              "  '3',\n",
              "  '3'],\n",
              " [1.230927437248078,\n",
              "  1.3291172684869241,\n",
              "  0.9600007239547079,\n",
              "  -0.4435756351525738,\n",
              "  -1.6653525697988152,\n",
              "  '4',\n",
              "  '2',\n",
              "  '3'],\n",
              " [2.4187072632872884,\n",
              "  3.069529861022269,\n",
              "  -1.5108510748454314,\n",
              "  -1.3507447706124038,\n",
              "  -2.284109229395277,\n",
              "  '3',\n",
              "  '3',\n",
              "  '2'],\n",
              " [0.09274773521961643,\n",
              "  -0.5879252864276574,\n",
              "  0.8923571809773323,\n",
              "  -3.6098087168037876,\n",
              "  -0.7543554125179746,\n",
              "  '0',\n",
              "  '4',\n",
              "  '5'],\n",
              " [-2.038560695636137,\n",
              "  -2.4166918200123404,\n",
              "  0.3133465059875393,\n",
              "  -2.720950492531423,\n",
              "  2.343119887691868,\n",
              "  '0',\n",
              "  '6',\n",
              "  '5'],\n",
              " [0.2598406619030691,\n",
              "  0.8564829155451432,\n",
              "  1.4295387006035314,\n",
              "  -0.3395210289413332,\n",
              "  -1.1644196934577051,\n",
              "  '0',\n",
              "  '7',\n",
              "  '5'],\n",
              " [-2.7768816485478265,\n",
              "  -2.5793170914409584,\n",
              "  -2.141857491902217,\n",
              "  2.7749802487579114,\n",
              "  -1.4913165292279267,\n",
              "  '4',\n",
              "  '8',\n",
              "  '0'],\n",
              " [1.8578713720518354,\n",
              "  0.9964916615969243,\n",
              "  0.3791219130196555,\n",
              "  1.8404583299710744,\n",
              "  2.018297288675667,\n",
              "  '0',\n",
              "  '0',\n",
              "  '3'],\n",
              " [-1.090950145353324,\n",
              "  -0.30765485964139594,\n",
              "  1.5765447699284976,\n",
              "  0.19701312977895213,\n",
              "  1.778144019035317,\n",
              "  '0',\n",
              "  '2',\n",
              "  '5'],\n",
              " [0.9695376777670095,\n",
              "  1.2210461231153524,\n",
              "  1.2359693835854744,\n",
              "  0.7475466956257548,\n",
              "  0.6761820688828237,\n",
              "  '4',\n",
              "  '2',\n",
              "  '3']]"
            ]
          },
          "metadata": {}
        },
        {
          "output_type": "display_data",
          "data": {
            "text/plain": [
              "['0', '2', '0', '2', '1', '2', '1', '0', '1', '0']"
            ]
          },
          "metadata": {}
        }
      ]
    }
  ]
}